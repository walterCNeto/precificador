{
  "nbformat": 4,
  "nbformat_minor": 0,
  "metadata": {
    "colab": {
      "provenance": [],
      "mount_file_id": "https://github.com/walterCNeto/precificador/blob/main/TestesDerivx.ipynb",
      "authorship_tag": "ABX9TyNcMSjxD7zqoTRR0GvQL3GN",
      "include_colab_link": true
    },
    "kernelspec": {
      "name": "python3",
      "display_name": "Python 3"
    },
    "language_info": {
      "name": "python"
    }
  },
  "cells": [
    {
      "cell_type": "markdown",
      "metadata": {
        "id": "view-in-github",
        "colab_type": "text"
      },
      "source": [
        "<a href=\"https://colab.research.google.com/github/walterCNeto/precificador/blob/main/TestesDerivx.ipynb\" target=\"_parent\"><img src=\"https://colab.research.google.com/assets/colab-badge.svg\" alt=\"Open In Colab\"/></a>"
      ]
    },
    {
      "cell_type": "code",
      "execution_count": 2,
      "metadata": {
        "colab": {
          "base_uri": "https://localhost:8080/"
        },
        "id": "1LSuS-ypc4KA",
        "outputId": "593efbcf-89ed-472b-d308-79b3d2328e1d"
      },
      "outputs": [
        {
          "output_type": "stream",
          "name": "stdout",
          "text": [
            "Collecting derivx-precificador\n",
            "  Downloading derivx_precificador-0.1.1-py3-none-any.whl.metadata (17 kB)\n",
            "Requirement already satisfied: numpy>=1.26 in /usr/local/lib/python3.12/dist-packages (from derivx-precificador) (2.0.2)\n",
            "Requirement already satisfied: scipy>=1.11 in /usr/local/lib/python3.12/dist-packages (from derivx-precificador) (1.16.1)\n",
            "Downloading derivx_precificador-0.1.1-py3-none-any.whl (29 kB)\n",
            "Installing collected packages: derivx-precificador\n",
            "Successfully installed derivx-precificador-0.1.1\n"
          ]
        }
      ],
      "source": [
        "!pip install derivx-precificador"
      ]
    },
    {
      "cell_type": "code",
      "source": [
        "from derivx import price_from_spec, bs_call_price\n",
        "\n",
        "spec = {\n",
        "  \"engine\": \"mc\",\n",
        "  \"model\": {\"name\":\"gbm\",\"r\":0.05,\"q\":0.0,\"sigma\":0.2},\n",
        "  \"grid\": {\"T\": 1.0, \"steps\": 128},\n",
        "  \"S0\": [100.0],\n",
        "  \"product\": {\"style\":\"european\",\"type\":\"european_call\",\"asset\":0,\"K\":100.0},\n",
        "  \"n_paths\": 80_000, \"seed\": 42,\n",
        "}\n",
        "p, se = price_from_spec(spec)\n",
        "print(\"MC:\", p, \"±\", 1.96*se)\n",
        "print(\"BS:\", bs_call_price(100, 100, r=0.05, q=0.0, sigma=0.2, T=1.0))"
      ],
      "metadata": {
        "id": "9q7C7eL6dRP-",
        "outputId": "17ce2235-4bdd-4614-d912-5e1fa333e8a4",
        "colab": {
          "base_uri": "https://localhost:8080/"
        }
      },
      "execution_count": 3,
      "outputs": [
        {
          "output_type": "stream",
          "name": "stdout",
          "text": [
            "MC: 10.453053775923228 ± 0.10235418620772387\n",
            "BS: 10.450583572185565\n"
          ]
        }
      ]
    },
    {
      "cell_type": "code",
      "source": [
        "from derivx import price_from_spec, bs_call_price\n",
        "\n",
        "S0=K=100.0; r=0.05; q=0.0; sigma=0.2; T=1.0\n",
        "spec = {\n",
        "  \"engine\":\"mc\",\n",
        "  \"model\":{\"name\":\"gbm\",\"r\":r,\"q\":q,\"sigma\":sigma},\n",
        "  \"grid\":{\"T\":T,\"steps\":128},\n",
        "  \"S0\":[S0],\n",
        "  \"product\":{\"style\":\"european\",\"type\":\"european_call\",\"asset\":0,\"K\":K},\n",
        "  \"n_paths\":80_000,\"seed\":42,\n",
        "}\n",
        "pmc,se = price_from_spec(spec)\n",
        "pbs = bs_call_price(S0,K,r,q,sigma,T)\n",
        "print(f\"MC={pmc:.4f} ± {1.96*se:.4f} | BS={pbs:.4f}\")"
      ],
      "metadata": {
        "id": "2Oy2H-pWdeub",
        "outputId": "174171d6-84f6-417d-a334-8a7829f6a321",
        "colab": {
          "base_uri": "https://localhost:8080/"
        }
      },
      "execution_count": 4,
      "outputs": [
        {
          "output_type": "stream",
          "name": "stdout",
          "text": [
            "MC=10.4531 ± 0.1024 | BS=10.4506\n"
          ]
        }
      ]
    },
    {
      "cell_type": "code",
      "source": [
        "from derivx import price_from_spec\n",
        "\n",
        "euro = {\"engine\":\"pde\",\"model\":{\"name\":\"gbm\",\"r\":0.05,\"q\":0.0,\"sigma\":0.2},\n",
        "        \"grid\":{\"T\":1.0},\"S0\":[100.0],\n",
        "        \"product\":{\"style\":\"european\",\"type\":\"european_put\",\"asset\":0,\"K\":100.0},\n",
        "        \"NS\":800,\"NT\":800,\"Smax_mult\":5.0}\n",
        "\n",
        "amer = {**euro, \"product\":{\"style\":\"american\",\"type\":\"european_put\",\"asset\":0,\"K\":100.0}}\n",
        "\n",
        "pe,_ = price_from_spec(euro)\n",
        "pa,_ = price_from_spec(amer)\n",
        "print(f\"PDE euro={pe:.4f}  PDE amer={pa:.4f}  (amer >= euro)\")"
      ],
      "metadata": {
        "id": "64dy88V7dkG8",
        "outputId": "90de2e6f-deca-4cc8-b528-60b4a2949fca",
        "colab": {
          "base_uri": "https://localhost:8080/"
        }
      },
      "execution_count": 5,
      "outputs": [
        {
          "output_type": "stream",
          "name": "stdout",
          "text": [
            "PDE euro=5.6138  PDE amer=6.0744  (amer >= euro)\n"
          ]
        }
      ]
    },
    {
      "cell_type": "code",
      "source": [
        "base = {\"engine\":\"mc\",\"model\":{\"name\":\"gbm\",\"r\":0.05,\"q\":0.0,\"sigma\":0.2},\n",
        "        \"grid\":{\"T\":1.0,\"steps\":128},\"S0\":[100.0],\n",
        "        \"n_paths\":100_000,\"seed\":7}\n",
        "\n",
        "van,_   = price_from_spec({**base,\"product\":{\"style\":\"european\",\"type\":\"european_call\",\"asset\":0,\"K\":100.0}})\n",
        "uo130,_ = price_from_spec({**base,\"product\":{\"style\":\"european\",\"type\":\"up_and_out_call\",\"asset\":0,\"K\":100.0,\"barrier\":130.0}})\n",
        "uo140,_ = price_from_spec({**base,\"product\":{\"style\":\"european\",\"type\":\"up_and_out_call\",\"asset\":0,\"K\":100.0,\"barrier\":140.0}})\n",
        "print(f\"UO130={uo130:.4f} <= UO140={uo140:.4f} <= Vanilla={van:.4f}\")"
      ],
      "metadata": {
        "id": "5t-d2kzldrBg",
        "outputId": "6429e0a9-06ab-4540-b6f8-4acf2336d877",
        "colab": {
          "base_uri": "https://localhost:8080/"
        }
      },
      "execution_count": 6,
      "outputs": [
        {
          "output_type": "stream",
          "name": "stdout",
          "text": [
            "UO130=3.6478 <= UO140=6.0222 <= Vanilla=10.4445\n"
          ]
        }
      ]
    },
    {
      "cell_type": "code",
      "source": [
        "asian,_ = price_from_spec({**base,\"product\":{\"style\":\"european\",\"type\":\"asian_arith_call\",\"asset\":0,\"K\":100.0}})\n",
        "print(f\"Asian={asian:.4f} <= Vanilla={van:.4f}\")"
      ],
      "metadata": {
        "id": "J7HFyoLwdx2k",
        "outputId": "df46ec01-c7d0-4383-e3db-678e0614939f",
        "colab": {
          "base_uri": "https://localhost:8080/"
        }
      },
      "execution_count": 7,
      "outputs": [
        {
          "output_type": "stream",
          "name": "stdout",
          "text": [
            "Asian=5.7958 <= Vanilla=10.4445\n"
          ]
        }
      ]
    },
    {
      "cell_type": "code",
      "source": [
        "def berm(ex_every):\n",
        "  spec={\"engine\":\"mc\",\"model\":{\"name\":\"gbm\",\"r\":0.05,\"q\":0.0,\"sigma\":0.2},\n",
        "        \"grid\":{\"T\":1.0,\"steps\":256},\"S0\":[100.0],\n",
        "        \"product\":{\"style\":\"bermudan\",\"type\":\"european_put\",\"asset\":0,\"K\":100.0,\"exercise_every\":ex_every},\n",
        "        \"n_paths\":120_000,\"seed\":7}\n",
        "  return price_from_spec(spec)\n",
        "\n",
        "for ex in (8,16,32):\n",
        "  p,se = berm(ex)\n",
        "  print(f\"ex_every={ex:>2}: {p:.4f} ± {1.96*se:.4f}\")"
      ],
      "metadata": {
        "id": "QR5BhpBld3Su",
        "outputId": "63d74bab-820b-4e42-9b0a-68e6912e35e1",
        "colab": {
          "base_uri": "https://localhost:8080/"
        }
      },
      "execution_count": 8,
      "outputs": [
        {
          "output_type": "stream",
          "name": "stdout",
          "text": [
            "ex_every= 8: 6.0395 ± 0.0407\n",
            "ex_every=16: 6.0427 ± 0.0415\n",
            "ex_every=32: 6.0361 ± 0.0424\n"
          ]
        }
      ]
    },
    {
      "cell_type": "code",
      "source": [
        "common={\"name\":\"heston\",\"r\":0.05,\"q\":0.0,\"kappa\":1.5,\"theta\":0.04,\"xi\":0.5,\"rho\":-0.7,\"v0\":0.04}\n",
        "\n",
        "fft={\"engine\":\"fft\",\"model\":common,\"grid\":{\"T\":1.0},\"S0\":[100.0],\n",
        "     \"product\":{\"style\":\"european\",\"type\":\"european_call\",\"asset\":0,\"K\":100.0},\n",
        "     \"alpha\":1.5,\"N\":4096,\"eta\":0.25}\n",
        "\n",
        "mc={\"engine\":\"mc\",\"model\":common,\"grid\":{\"T\":1.0,\"steps\":512},\"S0\":[100.0],\n",
        "    \"product\":{\"style\":\"european\",\"type\":\"european_call\",\"asset\":0,\"K\":100.0},\n",
        "    \"n_paths\":200_000,\"seed\":7}\n",
        "\n",
        "p_fft,_ = price_from_spec(fft)\n",
        "p_mc,se = price_from_spec(mc)\n",
        "print(f\"FFT={p_fft:.4f} | MC={p_mc:.4f} ± {1.96*se:.4f}\")"
      ],
      "metadata": {
        "id": "qHbY9aXGd7Sq",
        "outputId": "25cd7562-c71d-4b0a-faf2-800095004ccf",
        "colab": {
          "base_uri": "https://localhost:8080/"
        }
      },
      "execution_count": 9,
      "outputs": [
        {
          "output_type": "stream",
          "name": "stdout",
          "text": [
            "FFT=10.4781 | MC=10.4193 ± 0.0643\n"
          ]
        }
      ]
    },
    {
      "cell_type": "code",
      "source": [
        "spec={\"engine\":\"mc\",\n",
        "      \"model\":{\"name\":\"gbm\",\"r\":0.05,\"q\":[0.01,0.03],\"sigma\":[0.20,0.30],\n",
        "               \"corr\":[[1.0,0.5],[0.5,1.0]]},\n",
        "      \"grid\":{\"T\":2.0,\"steps\":80},\"S0\":[100.0,120.0],\n",
        "      \"product\":{\"style\":\"european\",\"type\":\"basket_call\",\"weights\":[0.5,0.5],\"K\":110.0},\n",
        "      \"n_paths\":100_000,\"seed\":3}\n",
        "p,se = price_from_spec(spec)\n",
        "print(p, \"±\", 1.96*se)"
      ],
      "metadata": {
        "id": "tGvUhXkReBRd",
        "outputId": "c3be0132-aab8-404a-d927-b3c08ff52de0",
        "colab": {
          "base_uri": "https://localhost:8080/"
        }
      },
      "execution_count": 10,
      "outputs": [
        {
          "output_type": "stream",
          "name": "stdout",
          "text": [
            "15.926254233134596 ± 0.15865480424438438\n"
          ]
        }
      ]
    },
    {
      "cell_type": "code",
      "source": [
        "{\n",
        "  \"engine\":\"analytic\",\n",
        "  \"model\":{\"r\":0.05,\"q\":[0.0],\"sigma\":[0.2],\"corr\":[[1.0]]},\n",
        "  \"grid\":{\"T\":1.0},\n",
        "  \"S0\":[100.0],\n",
        "  \"product\":{\"style\":\"european\",\"type\":\"asset_or_nothing_call\",\"asset\":0,\"K\":100.0}\n",
        "}"
      ],
      "metadata": {
        "id": "eR3QGU6CeE8e",
        "outputId": "c14c3f28-835b-4929-d111-1f792e9b10c2",
        "colab": {
          "base_uri": "https://localhost:8080/"
        }
      },
      "execution_count": 11,
      "outputs": [
        {
          "output_type": "execute_result",
          "data": {
            "text/plain": [
              "{'engine': 'analytic',\n",
              " 'model': {'r': 0.05, 'q': [0.0], 'sigma': [0.2], 'corr': [[1.0]]},\n",
              " 'grid': {'T': 1.0},\n",
              " 'S0': [100.0],\n",
              " 'product': {'style': 'european',\n",
              "  'type': 'asset_or_nothing_call',\n",
              "  'asset': 0,\n",
              "  'K': 100.0}}"
            ]
          },
          "metadata": {},
          "execution_count": 11
        }
      ]
    },
    {
      "cell_type": "code",
      "source": [
        "spec = {\n",
        "  \"engine\": \"analytic\",\n",
        "  \"model\": {\"r\": 0.05},   # ou r_curve: {\"times\":[...], \"rates\":[...]}\n",
        "  \"grid\": {\"T\": 1.0},\n",
        "  \"S0\": [],\n",
        "  \"product\": {\"style\":\"european\",\"type\":\"fra\",\"T1\":1.0,\"T2\":1.5,\"tau\":0.5,\"K\":0.045,\"notional\":1.0}\n",
        "}\n",
        "pv,_ = price_from_spec(spec)"
      ],
      "metadata": {
        "id": "ZuWwLMHYeI3F"
      },
      "execution_count": 12,
      "outputs": []
    },
    {
      "cell_type": "code",
      "source": [
        "pv"
      ],
      "metadata": {
        "id": "b7KTmA1ieMq9",
        "outputId": "29ff7d01-1021-446b-d6d6-fc3359656ea1",
        "colab": {
          "base_uri": "https://localhost:8080/"
        }
      },
      "execution_count": 13,
      "outputs": [
        {
          "output_type": "execute_result",
          "data": {
            "text/plain": [
              "0.0026117097297686936"
            ]
          },
          "metadata": {},
          "execution_count": 13
        }
      ]
    },
    {
      "cell_type": "code",
      "source": [
        "spec = {\n",
        "  \"engine\":\"analytic\",\"model\":{\"r\":0.05},\"grid\":{\"T\":2.0},\"S0\":[],\n",
        "  \"product\":{\"style\":\"european\",\"type\":\"swap\",\"T0\":0.0,\n",
        "             \"payment_times\":[0.5,1.0,1.5,2.0],\n",
        "             \"tau\":0.5, \"fixed_rate\":0.05, \"notional\":1.0}\n",
        "}\n",
        "pv,_ = price_from_spec(spec)"
      ],
      "metadata": {
        "id": "ERFRyPtbePF_"
      },
      "execution_count": 14,
      "outputs": []
    },
    {
      "cell_type": "code",
      "source": [
        "pv"
      ],
      "metadata": {
        "id": "8pG8b0vJeSxp",
        "outputId": "e16e086f-900f-4cc9-e5cb-25dac1b85ef3",
        "colab": {
          "base_uri": "https://localhost:8080/"
        }
      },
      "execution_count": 15,
      "outputs": [
        {
          "output_type": "execute_result",
          "data": {
            "text/plain": [
              "0.0011845759417015017"
            ]
          },
          "metadata": {},
          "execution_count": 15
        }
      ]
    },
    {
      "cell_type": "code",
      "source": [
        "spec = {\n",
        "  \"engine\":\"analytic\",\"model\":{\"r\":0.05},\"grid\":{\"T\":2.0},\"S0\":[],\n",
        "  \"product\":{\"style\":\"european\",\"type\":\"cap\",\n",
        "             \"payment_times\":[0.5,1.0,1.5,2.0],\n",
        "             \"tau\":0.5,\"K\":0.04,\"sigma\":0.20,\"notional\":1.0}\n",
        "}\n",
        "pv,_ = price_from_spec(spec)"
      ],
      "metadata": {
        "id": "Aq7P8VSfeUke"
      },
      "execution_count": 16,
      "outputs": []
    },
    {
      "cell_type": "code",
      "source": [
        "pv"
      ],
      "metadata": {
        "id": "4otSu1-6eXwF",
        "outputId": "5f900a94-5200-4747-ea7c-f7eeac56021f",
        "colab": {
          "base_uri": "https://localhost:8080/"
        }
      },
      "execution_count": 17,
      "outputs": [
        {
          "output_type": "execute_result",
          "data": {
            "text/plain": [
              "0.02072838335158475"
            ]
          },
          "metadata": {},
          "execution_count": 17
        }
      ]
    },
    {
      "cell_type": "code",
      "source": [
        "spec = {\n",
        "  \"engine\":\"analytic\",\"model\":{\"r\":0.05},\"grid\":{\"T\":2.0},\"S0\":[],\n",
        "  \"product\":{\"style\":\"european\",\"type\":\"payer_swaption\",\"expiry\":1.0,\n",
        "             \"payment_times\":[1.5,2.0,2.5],\"tau\":0.5,\"K\":0.05,\"sigma\":0.25,\"notional\":1.0}\n",
        "}\n",
        "pv,_ = price_from_spec(spec)"
      ],
      "metadata": {
        "id": "6tmMlt5geYyX"
      },
      "execution_count": 18,
      "outputs": []
    },
    {
      "cell_type": "code",
      "source": [
        "pv"
      ],
      "metadata": {
        "id": "-kktUgD-ebv8",
        "outputId": "2b125619-4387-433c-da27-8972a491e1a0",
        "colab": {
          "base_uri": "https://localhost:8080/"
        }
      },
      "execution_count": 19,
      "outputs": [
        {
          "output_type": "execute_result",
          "data": {
            "text/plain": [
              "0.007230983333915667"
            ]
          },
          "metadata": {},
          "execution_count": 19
        }
      ]
    },
    {
      "cell_type": "code",
      "source": [
        "from pathlib import Path\n",
        "from derivx.report import plot_report\n",
        "\n",
        "spec = {\n",
        "  \"engine\": \"analytic\",\n",
        "  \"model\": {\"r\": 0.05, \"q\": [0.0], \"sigma\": [0.2], \"corr\": [[1.0]]},\n",
        "  \"grid\": {\"T\": 1.0},\n",
        "  \"S0\": [100.0],\n",
        "  \"product\": {\"style\": \"european\", \"type\": \"european_call\", \"asset\": 0, \"K\": 100.0},\n",
        "}\n",
        "\n",
        "out_file = \"report_call.png\"\n",
        "rep = plot_report(spec, filename=out_file, dpi=150)\n",
        "\n",
        "print(\"Preço:\", rep.price, \"SE:\", rep.se, \"PNG:\", Path(out_file).resolve())"
      ],
      "metadata": {
        "id": "eNXP28dfee4k",
        "outputId": "2579e2c1-a08d-4853-c71c-116d47cbb080",
        "colab": {
          "base_uri": "https://localhost:8080/"
        }
      },
      "execution_count": 21,
      "outputs": [
        {
          "output_type": "stream",
          "name": "stdout",
          "text": [
            "Preço: 10.450583572185565 SE: 0.0 PNG: /content/report_call.png\n"
          ]
        }
      ]
    },
    {
      "cell_type": "markdown",
      "source": [
        "# Nova seção"
      ],
      "metadata": {
        "id": "WNGFwpLifTNJ"
      }
    }
  ]
}