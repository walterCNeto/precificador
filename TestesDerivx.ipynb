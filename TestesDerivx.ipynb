{
  "nbformat": 4,
  "nbformat_minor": 0,
  "metadata": {
    "colab": {
      "provenance": [],
      "authorship_tag": "ABX9TyOOJU4j4KqTsZNX3I00DrRF",
      "include_colab_link": true
    },
    "kernelspec": {
      "name": "python3",
      "display_name": "Python 3"
    },
    "language_info": {
      "name": "python"
    }
  },
  "cells": [
    {
      "cell_type": "markdown",
      "metadata": {
        "id": "view-in-github",
        "colab_type": "text"
      },
      "source": [
        "<a href=\"https://colab.research.google.com/github/walterCNeto/precificador/blob/main/TestesDerivx.ipynb\" target=\"_parent\"><img src=\"https://colab.research.google.com/assets/colab-badge.svg\" alt=\"Open In Colab\"/></a>"
      ]
    },
    {
      "cell_type": "code",
      "execution_count": 1,
      "metadata": {
        "colab": {
          "base_uri": "https://localhost:8080/"
        },
        "id": "1LSuS-ypc4KA",
        "outputId": "4cab1518-3041-47bb-e624-a6e7f33261d8"
      },
      "outputs": [
        {
          "output_type": "stream",
          "name": "stdout",
          "text": [
            "Collecting derivx-precificador\n",
            "  Downloading derivx_precificador-0.1.1-py3-none-any.whl.metadata (17 kB)\n",
            "Requirement already satisfied: numpy>=1.26 in /usr/local/lib/python3.12/dist-packages (from derivx-precificador) (2.0.2)\n",
            "Requirement already satisfied: scipy>=1.11 in /usr/local/lib/python3.12/dist-packages (from derivx-precificador) (1.16.1)\n",
            "Downloading derivx_precificador-0.1.1-py3-none-any.whl (29 kB)\n",
            "Installing collected packages: derivx-precificador\n",
            "Successfully installed derivx-precificador-0.1.1\n"
          ]
        }
      ],
      "source": [
        "!pip install derivx-precificador"
      ]
    }
  ]
}