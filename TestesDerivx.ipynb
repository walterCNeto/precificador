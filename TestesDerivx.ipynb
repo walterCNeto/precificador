{
  "nbformat": 4,
  "nbformat_minor": 0,
  "metadata": {
    "colab": {
      "provenance": [],
      "mount_file_id": "https://github.com/walterCNeto/precificador/blob/main/TestesDerivx.ipynb",
      "authorship_tag": "ABX9TyNk8nSxGtGMtgs/cG/H4QW0",
      "include_colab_link": true
    },
    "kernelspec": {
      "name": "python3",
      "display_name": "Python 3"
    },
    "language_info": {
      "name": "python"
    }
  },
  "cells": [
    {
      "cell_type": "markdown",
      "metadata": {
        "id": "view-in-github",
        "colab_type": "text"
      },
      "source": [
        "<a href=\"https://colab.research.google.com/github/walterCNeto/precificador/blob/main/TestesDerivx.ipynb\" target=\"_parent\"><img src=\"https://colab.research.google.com/assets/colab-badge.svg\" alt=\"Open In Colab\"/></a>"
      ]
    },
    {
      "cell_type": "markdown",
      "source": [
        "![logoModelos.jpg](data:image/jpeg;base64,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)\n",
        "\n",
        "# **Instalação do módulo**"
      ],
      "metadata": {
        "id": "qfH22QSofuQq"
      }
    },
    {
      "cell_type": "code",
      "execution_count": 2,
      "metadata": {
        "colab": {
          "base_uri": "https://localhost:8080/"
        },
        "id": "1LSuS-ypc4KA",
        "outputId": "593efbcf-89ed-472b-d308-79b3d2328e1d"
      },
      "outputs": [
        {
          "output_type": "stream",
          "name": "stdout",
          "text": [
            "Collecting derivx-precificador\n",
            "  Downloading derivx_precificador-0.1.1-py3-none-any.whl.metadata (17 kB)\n",
            "Requirement already satisfied: numpy>=1.26 in /usr/local/lib/python3.12/dist-packages (from derivx-precificador) (2.0.2)\n",
            "Requirement already satisfied: scipy>=1.11 in /usr/local/lib/python3.12/dist-packages (from derivx-precificador) (1.16.1)\n",
            "Downloading derivx_precificador-0.1.1-py3-none-any.whl (29 kB)\n",
            "Installing collected packages: derivx-precificador\n",
            "Successfully installed derivx-precificador-0.1.1\n"
          ]
        }
      ],
      "source": [
        "!pip install derivx-precificador"
      ]
    },
    {
      "cell_type": "markdown",
      "source": [
        "## **Precificação de uma CALL europeia via Monte Carlo (GBM) e comparação com Black-Scholes**\n",
        "\n",
        "Este code demonstra como **simular** o preço de uma opção **CALL europeia** usando **Monte Carlo** sob **Geometric Brownian Motion (GBM)** e comparar com o preço **fechado** do modelo **Black-Scholes-Merton (BSM)**.\n",
        "\n",
        "---\n",
        "\n",
        "### 1) Problema de precificação\n",
        "\n",
        "Queremos o preço hoje \\(C_0\\) de uma CALL europeia com payoff em \\(T\\):\n",
        "$$\n",
        "\\text{Payoff} = (S_T - K)^+ = \\max(S_T - K, 0).\n",
        "$$\n",
        "\n",
        "Sob a **medida neutra ao risco** $\\mathbb{Q}$, o preço de consenso é o valor presente da esperança da realização do payoff:\n",
        "$$\n",
        "C_0 = e^{-rT}\\,\\mathbb{E}^{\\mathbb{Q}}\\!\\left[(S_T - K)^+\\right].\n",
        "$$\n",
        "\n",
        "**Parâmetros e notação:**\n",
        "- \\(S_T\\): preço do ativo no vencimento \\(T\\)\n",
        "- \\(K\\): strike\n",
        "- \\(r\\): taxa livre de risco contínua\n",
        "- Esperança sob a medida neutra ao risco: $ \\mathbb{E}^{\\mathbb{Q}}\\!\\left[\\cdot\\right] $.\n",
        "\n",
        "---\n",
        "\n",
        "### 2) Dinâmica do preço (GBM)\n",
        "\n",
        "Assumimos que $S_t$ segue um **GBM** sob $\\mathbb{Q}$:\n",
        "$$\n",
        "dS_t = (r - q)\\,S_t\\,dt + \\sigma\\,S_t\\,dW_t,\n",
        "$$\n",
        "onde $q$ é o dividend yield contínuo, $\\sigma$ é a volatilidade e $W_t$ é um Browniano padrão.\n",
        "\n",
        "A solução fechada do GBM é:\n",
        "$$\n",
        "S_T = S_0 \\,\\exp\\!\\Big( (r-q - \\frac{1}{2}\\sigma^2)T + \\sigma \\sqrt{T}\\,Z \\Big), \\qquad Z\\sim \\mathcal{N}(0,1).\n",
        "$$\n",
        "\n",
        "> Observação: para opções **não path-dependent** (como a europeia simples), pode-se calcular $S_T$ **diretamente** pela equação apresentada.\n",
        "\n",
        "---\n",
        "\n",
        "### 3) Estimador de Monte Carlo\n",
        "\n",
        "Simulam-se $n$ trajetórias independentes e calcula-se a média dos payoffs descontados.\n",
        "\n",
        "1. Para $i=1,\\ldots,n$, gere $Z^{(i)} \\sim \\mathcal{N}(0,1)$, e calcule $S_T^{(i)}$ e então:\n",
        "$$\n",
        "X_i = e^{-rT}\\,(S_T^{(i)} - K)^+ .\n",
        "$$\n",
        "\n",
        "2. **Preço estimado (média amostral):**\n",
        "$$\n",
        "\\hat{C}_0 = \\frac{1}{n}\\sum_{i=1}^n X_i .\n",
        "$$\n",
        "\n",
        "3. **Erro-padrão (standard error):**\n",
        "$$\n",
        "\\widehat{\\mathrm{se}} = \\frac{s_X}{\\sqrt{n}}, \\qquad\n",
        "s_X^2=\\frac{1}{n-1}\\sum_{i=1}^n \\left(X_i-\\hat{C}_0\\right)^2 .\n",
        "$$\n",
        "\n",
        "4. **Intervalo de confiança de 95%:**\n",
        "$$\n",
        "\\hat{C}_0 \\;\\pm\\; 1.96 \\cdot \\widehat{\\mathrm{se}}.\n",
        "$$\n",
        "\n",
        "> Convergência: a precisão melhora como $\\mathcal{O}(n^{-1/2})$. Para dobrar a precisão, é preciso cerca de $4\\times$ mais caminhos.\n",
        "\n",
        "---\n",
        "\n",
        "### 4) Fórmula de Black-Scholes (referência analítica)\n",
        "\n",
        "Para a CALL europeia:\n",
        "$$\n",
        "C_{\\text{BS}} = S_0 e^{-qT}\\,\\Phi(d_1) - K e^{-rT}\\,\\Phi(d_2),\n",
        "$$\n",
        "com\n",
        "$$\n",
        "d_1 = \\frac{\\ln(S_0/K) + (r - q + \\frac{1}{2}\\sigma^2)T}{\\sigma\\sqrt{T}},\n",
        "\\qquad\n",
        "d_2 = d_1 - \\sigma\\sqrt{T},\n",
        "$$\n",
        "e $\\Phi(\\cdot)$ é a CDF da normal padrão.\n",
        "\n",
        "> Exemplo: $S_0=100$, $K=100$, $r=5\\%$, $q=0\\%$, $\\sigma=20\\%$, $T=1$ $\\Rightarrow$ $C_{\\text{BS}}\\approx 10{,}45$.\n",
        "\n",
        "\n",
        "---\n",
        "\n",
        "### 5) Como o dicionário `spec` se conecta às fórmulas\n",
        "\n",
        "- `engine=\"mc\"`: usamos **Monte Carlo** para estimar \\(C_0\\).\n",
        "- `model={\"name\":\"gbm\",\"r\":0.05,\"q\":0.0,\"sigma\":0.2}`: parâmetros do **GBM** sob \\(\\mathbb{Q}\\).\n",
        "- `grid={\"T\":1.0,\"steps\":128}`: maturidade \\(T=1\\) (os *steps* são úteis para produtos dependentes do caminho).\n",
        "- `S0=[100.0]`: preço inicial \\(S_0\\).\n",
        "- `product={\"style\":\"european\",\"type\":\"european_call\",\"asset\":0,\"K\":100.0}`: payoff \\((S_T-K)^+\\).\n",
        "- `n_paths=80_000`: número de amostras \\(n\\) (maior \\(n\\) implica menor \\(\\widehat{\\mathrm{se}}\\)).\n",
        "- `seed=42`: reprodutibilidade.\n",
        "\n",
        "A função `price_from_spec(spec)` implementa:\n",
        "$$\n",
        "\\hat{C}_0 = \\frac{1}{n}\\sum_{i=1}^n e^{-rT}(S_T^{(i)}-K)^+,\n",
        "\\qquad\n",
        "\\widehat{\\mathrm{se}} = \\frac{s_X}{\\sqrt{n}}.\n",
        "$$\n",
        "\n",
        "Já `bs_call_price(...)` calcula \\(C_{\\text{BS}}\\) pela fórmula fechada acima.\n",
        "\n",
        "**Cheque de consistência:**\n",
        "$$\n",
        "C_{\\text{BS}} \\in \\left[\\, \\hat{C}_0 - 1.96\\,\\widehat{\\mathrm{se}},\\; \\hat{C}_0 + 1.96\\,\\widehat{\\mathrm{se}} \\,\\right].\n",
        "$$\n",
        "\n",
        "---\n",
        "\n",
        "### 6) Boas práticas e extensões\n",
        "\n",
        "- **Redução de variância**: antitéticos, variáveis de controle (usar $C_{\\text{BS}}$ como controle), stratified sampling, moment matching.\n",
        "- **Path-dependence**: Asians, barreiras, lookbacks exigem discretização do caminho (uso de `steps`).\n",
        "- **Dividendos**: `q` cobre dividendos contínuos; para dividendos discretos, adapte o modelo.\n",
        "- **Convergência**: monitore $\\widehat{\\mathrm{se}}$ e a largura do IC; aumente `n_paths` conforme necessário.\n",
        "\n",
        "**Resumo**: Modela-se $S_t$ via GBM sob $\\mathbb{Q}$ e precifica-se a CALL como $C_0 = e^{-rT}\\,\\mathbb{E}^{\\mathbb{Q}}\\!\\left[(S_T - K)^+\\right]$. Estima-se por **Monte Carlo** e valida-se contra **Black–Scholes**. Em GBM, $\\,\\text{MC} \\to \\text{BS}\\,$ quando $n_{\\text{paths}} \\to \\infty$.\n",
        "\n",
        "---\n",
        "\n",
        "### 7) Abaixo o code com base na biblioteca"
      ],
      "metadata": {
        "id": "DxOCatBWgoQZ"
      }
    },
    {
      "cell_type": "code",
      "source": [
        "from derivx import price_from_spec, bs_call_price\n",
        "\n",
        "spec = {\n",
        "  \"engine\": \"mc\",\n",
        "  \"model\": {\"name\":\"gbm\",\"r\":0.05,\"q\":0.0,\"sigma\":0.2},\n",
        "  \"grid\": {\"T\": 1.0, \"steps\": 128},\n",
        "  \"S0\": [100.0],\n",
        "  \"product\": {\"style\":\"european\",\"type\":\"european_call\",\"asset\":0,\"K\":100.0},\n",
        "  \"n_paths\": 80_000, \"seed\": 42,\n",
        "}\n",
        "p, se = price_from_spec(spec)\n",
        "print(\"MC:\", p, \"±\", 1.96*se)\n",
        "print(\"BS:\", bs_call_price(100, 100, r=0.05, q=0.0, sigma=0.2, T=1.0))"
      ],
      "metadata": {
        "colab": {
          "base_uri": "https://localhost:8080/"
        },
        "id": "9q7C7eL6dRP-",
        "outputId": "17ce2235-4bdd-4614-d912-5e1fa333e8a4"
      },
      "execution_count": 3,
      "outputs": [
        {
          "output_type": "stream",
          "name": "stdout",
          "text": [
            "MC: 10.453053775923228 ± 0.10235418620772387\n",
            "BS: 10.450583572185565\n"
          ]
        }
      ]
    },
    {
      "cell_type": "markdown",
      "source": [
        "## CALL europeia: Monte Carlo (GBM) vs. Black–Scholes\n",
        "\n",
        "Este bloco precifica uma **CALL europeia** de strike $K$ sobre um ativo com preço inicial $S_0$, comparando:\n",
        "- **MC (Monte Carlo)** sob **GBM** (medida neutra ao risco $\\mathbb{Q}$), e\n",
        "- **BS (Black–Scholes)** pela fórmula analítica.\n",
        "\n",
        "### Parâmetros usados\n",
        "- $S_0 = 100$, $K = 100$, $r = 0.05$, $q = 0.00$, $\\sigma = 0.20$, $T = 1$.\n",
        "- Em `spec`: `engine=\"mc\"`, modelo GBM com $(r,q,\\sigma)$, `grid={\"T\":T,\"steps\":128}`, `S0=[S0]`, `product` (CALL europeia), `n_paths=80_000`, `seed=42`.\n",
        "\n",
        "### O que o código faz\n",
        "1. Monta o dicionário `spec` com a definição do problema.\n",
        "2. Chama `price_from_spec(spec)` e obtém:\n",
        "   - **MC**: estimativa do preço $\\hat{C}_0$,\n",
        "   - **se**: erro-padrão do estimador.\n",
        "3. Chama `bs_call_price(...)` para o valor **BS** analítico.\n",
        "4. Imprime: `MC = valor ± 1.96*se | BS = valor` (IC de 95% para o preço via MC).\n",
        "\n",
        "### Modelo e fórmula (resumo)\n",
        "- **Dinâmica (GBM) sob $\\mathbb{Q}$**:\n",
        "  $$\n",
        "  dS_t = (r - q)\\,S_t\\,dt + \\sigma\\,S_t\\,dW_t,\n",
        "  \\qquad\n",
        "  S_T = S_0 \\exp\\!\\Big((r-q-\\tfrac{1}{2}\\sigma^2)T + \\sigma\\sqrt{T}\\,Z\\Big),\\; Z\\sim\\mathcal{N}(0,1).\n",
        "  $$\n",
        "- **Preço justo (definição)**:\n",
        "  $$\n",
        "  C_0 = e^{-rT}\\,\\mathbb{E}^{\\mathbb{Q}}\\!\\left[(S_T - K)^+\\right].\n",
        "  $$\n",
        "- **Estimador de MC** (com $X_i = e^{-rT}(S_T^{(i)}-K)^+$):\n",
        "  $$\n",
        "  \\hat{C}_0 = \\frac{1}{n}\\sum_{i=1}^n X_i,\n",
        "  \\qquad\n",
        "  \\widehat{\\mathrm{se}} = \\frac{s_X}{\\sqrt{n}},\n",
        "  \\qquad\n",
        "  \\text{IC95\\%}: \\hat{C}_0 \\pm 1.96\\,\\widehat{\\mathrm{se}}.\n",
        "  $$\n",
        "- **Black–Scholes (referência)**:\n",
        "  $$\n",
        "  C_{\\text{BS}} = S_0 e^{-qT}\\,\\Phi(d_1) - K e^{-rT}\\,\\Phi(d_2),\\quad\n",
        "  d_1 = \\frac{\\ln(S_0/K) + (r-q+\\tfrac{1}{2}\\sigma^2)T}{\\sigma\\sqrt{T}},\\;\n",
        "  d_2 = d_1 - \\sigma\\sqrt{T}.\n",
        "  $$\n",
        "\n",
        "### Como interpretar a saída\n",
        "- Se o valor **BS** cai **dentro** do intervalo `MC ± 1.96*se`, a simulação está consistente com a teoria.\n",
        "- Para reduzir a largura do intervalo, aumente `n_paths` (a incerteza cai como $1/\\sqrt{n}$).\n",
        "- Fixar `seed` garante reprodutibilidade; `steps` é útil para produtos *path-dependent*.\n",
        "\n",
        "> Dica: se quiser tornar a simulação mais eficiente, teste técnicas de **redução de variância** (antitéticos, variáveis de controle usando o próprio $C_{\\text{BS}}$ como controle, etc.).\n",
        "\n",
        "### Abaixo o code com base na biblioteca\n"
      ],
      "metadata": {
        "id": "Tcyzhp1SpaKF"
      }
    },
    {
      "cell_type": "code",
      "source": [
        "from derivx import price_from_spec, bs_call_price\n",
        "\n",
        "S0=K=100.0; r=0.05; q=0.0; sigma=0.2; T=1.0\n",
        "spec = {\n",
        "  \"engine\":\"mc\",\n",
        "  \"model\":{\"name\":\"gbm\",\"r\":r,\"q\":q,\"sigma\":sigma},\n",
        "  \"grid\":{\"T\":T,\"steps\":128},\n",
        "  \"S0\":[S0],\n",
        "  \"product\":{\"style\":\"european\",\"type\":\"european_call\",\"asset\":0,\"K\":K},\n",
        "  \"n_paths\":80_000,\"seed\":42,\n",
        "}\n",
        "pmc,se = price_from_spec(spec)\n",
        "pbs = bs_call_price(S0,K,r,q,sigma,T)\n",
        "print(f\"MC={pmc:.4f} ± {1.96*se:.4f} | BS={pbs:.4f}\")"
      ],
      "metadata": {
        "colab": {
          "base_uri": "https://localhost:8080/"
        },
        "id": "2Oy2H-pWdeub",
        "outputId": "174171d6-84f6-417d-a334-8a7829f6a321"
      },
      "execution_count": 4,
      "outputs": [
        {
          "output_type": "stream",
          "name": "stdout",
          "text": [
            "MC=10.4531 ± 0.1024 | BS=10.4506\n"
          ]
        }
      ]
    },
    {
      "cell_type": "markdown",
      "source": [
        "## PUT europeu vs. americano via PDE (Black–Scholes)\n",
        "\n",
        "Este bloco precifica uma **PUT europeia** e uma **PUT americana** usando um solver **PDE** do modelo de **Black–Scholes**. Em puts, vale a relação:\n",
        "$$\n",
        "\\text{Preço PUT americana} \\;\\ge\\; \\text{Preço PUT europeia}.\n",
        "$$\n",
        "\n",
        "### O que o código faz\n",
        "1. Define um problema base `euro` (PUT **europeia**) com:\n",
        "   - modelo GBM sob a medida neutra ao risco (parâmetros `r`, `q`, `sigma`);\n",
        "   - malha temporal/espacial da PDE (`NS`, `NT`) e domínio de preço até `S_{\\max} = \\text{Smax\\_mult}\\cdot S_0`.\n",
        "2. Cria `amer` copiando `euro`, mas com `style=\"american\"` para permitir **exercício antecipado**.\n",
        "3. Chama `price_from_spec(...)` para ambos e imprime: `PDE euro=...  PDE amer=... (amer >= euro)`.\n",
        "\n",
        "> Observação sobre a API: aqui o campo `type:\"european_put\"` descreve o **payoff de put**; o campo `style:\"european\"/\"american\"` controla o **direito de exercício** (europeu vs. americano).\n",
        "\n",
        "### Modelo (PDE de Black–Scholes para o valor $V(S,t)$)\n",
        "Para $0<S<S_{\\max}$ e $0\\le t<T$:\n",
        "$$\n",
        "\\frac{\\partial V}{\\partial t} \\;+\\; (r - q)\\,S\\,\\frac{\\partial V}{\\partial S}\n",
        "\\;+\\; \\tfrac{1}{2}\\sigma^2 S^2 \\,\\frac{\\partial^2 V}{\\partial S^2}\n",
        "\\;-\\; r\\,V \\;=\\; 0.\n",
        "$$\n",
        "\n",
        "**Condição terminal (em $t=T$)** para PUT:\n",
        "$$\n",
        "V(S,T) \\;=\\; (K - S)^+.\n",
        "$$\n",
        "\n",
        "**Condições de contorno (PUT):**\n",
        "- Em $S=0$  \n",
        "  • **Europeia:** $V(0,t) = K\\,e^{-r(T-t)}$.  \n",
        "  • **Americana:** $V(0,t) = K$ (exercício imediato é ótimo em $S=0$).\n",
        "- Em $S=S_{\\max}$: $V(S_{\\max},t) = 0$.\n",
        "\n",
        "**Restrição de exercício (apenas americana):**\n",
        "$$\n",
        "V(S,t) \\;\\ge\\; (K - S)^+,\n",
        "$$\n",
        "e na **região de continuação** vale a PDE; na **região de exercício** vale $V(S,t)=(K-S)^+$. Numericamente, impõe-se a projeção $V \\leftarrow \\max\\{V,\\,(K-S)^+\\}$ a cada passo de tempo.\n",
        "\n",
        "### Grade numérica (parâmetros do spec)\n",
        "- `NS=800`: número de nós em preço ($S$).  \n",
        "- `NT=800`: número de passos no tempo.  \n",
        "- `Smax_mult=5.0`: define $S_{\\max} = 5\\cdot S_0$ (aqui, $S_{\\max}=500$).\n",
        "\n",
        "Esses parâmetros controlam **estabilidade** e **convergência** da solução numérica. Aumentar `NS`/`NT` tende a melhorar a precisão (com maior custo). Escolher `S_{\\max}` grande o bastante evita truncar massa de probabilidade relevante.\n",
        "\n",
        "### Interpretação da saída\n",
        "- `PDE euro` é o preço via PDE da PUT **europeia**.  \n",
        "- `PDE amer` é o preço via PDE da PUT **americana** (com exercício antecipado).  \n",
        "- Deve-se observar `PDE amer ≥ PDE euro`. A diferença é o **prêmio de exercício antecipado**.\n",
        "\n",
        "### Boas práticas\n",
        "- Faça **teste de convergência**: refine `NS`, `NT` e varie `Smax_mult` (ex.: 4, 6, 8).  \n",
        "- Malhas **não uniformes** (mais pontos perto de $K$ e $S=0$) costumam melhorar a precisão do kink do payoff.  \n",
        "- Para calls **sem dividendos** ($q=0$), tipicamente **americano = europeu**; para **puts**, o americano é **maior ou igual** ao europeu (como mostrado aqui).\n",
        "\n",
        "### Abaixo o code\n",
        "\n"
      ],
      "metadata": {
        "id": "R1zUlekX0IkW"
      }
    },
    {
      "cell_type": "code",
      "source": [
        "from derivx import price_from_spec\n",
        "\n",
        "euro = {\"engine\":\"pde\",\"model\":{\"name\":\"gbm\",\"r\":0.05,\"q\":0.0,\"sigma\":0.2},\n",
        "        \"grid\":{\"T\":1.0},\"S0\":[100.0],\n",
        "        \"product\":{\"style\":\"european\",\"type\":\"european_put\",\"asset\":0,\"K\":100.0},\n",
        "        \"NS\":800,\"NT\":800,\"Smax_mult\":5.0}\n",
        "\n",
        "amer = {**euro, \"product\":{\"style\":\"american\",\"type\":\"european_put\",\"asset\":0,\"K\":100.0}}\n",
        "\n",
        "pe,_ = price_from_spec(euro)\n",
        "pa,_ = price_from_spec(amer)\n",
        "print(f\"PDE euro={pe:.4f}  PDE amer={pa:.4f}  (amer >= euro)\")"
      ],
      "metadata": {
        "colab": {
          "base_uri": "https://localhost:8080/"
        },
        "id": "64dy88V7dkG8",
        "outputId": "90de2e6f-deca-4cc8-b528-60b4a2949fca"
      },
      "execution_count": 5,
      "outputs": [
        {
          "output_type": "stream",
          "name": "stdout",
          "text": [
            "PDE euro=5.6138  PDE amer=6.0744  (amer >= euro)\n"
          ]
        }
      ]
    },
    {
      "cell_type": "markdown",
      "source": [
        "xxx"
      ],
      "metadata": {
        "id": "QEyfC8870ifY"
      }
    },
    {
      "cell_type": "code",
      "source": [
        "base = {\"engine\":\"mc\",\"model\":{\"name\":\"gbm\",\"r\":0.05,\"q\":0.0,\"sigma\":0.2},\n",
        "        \"grid\":{\"T\":1.0,\"steps\":128},\"S0\":[100.0],\n",
        "        \"n_paths\":100_000,\"seed\":7}\n",
        "\n",
        "van,_   = price_from_spec({**base,\"product\":{\"style\":\"european\",\"type\":\"european_call\",\"asset\":0,\"K\":100.0}})\n",
        "uo130,_ = price_from_spec({**base,\"product\":{\"style\":\"european\",\"type\":\"up_and_out_call\",\"asset\":0,\"K\":100.0,\"barrier\":130.0}})\n",
        "uo140,_ = price_from_spec({**base,\"product\":{\"style\":\"european\",\"type\":\"up_and_out_call\",\"asset\":0,\"K\":100.0,\"barrier\":140.0}})\n",
        "print(f\"UO130={uo130:.4f} <= UO140={uo140:.4f} <= Vanilla={van:.4f}\")"
      ],
      "metadata": {
        "colab": {
          "base_uri": "https://localhost:8080/"
        },
        "id": "5t-d2kzldrBg",
        "outputId": "6429e0a9-06ab-4540-b6f8-4acf2336d877"
      },
      "execution_count": 6,
      "outputs": [
        {
          "output_type": "stream",
          "name": "stdout",
          "text": [
            "UO130=3.6478 <= UO140=6.0222 <= Vanilla=10.4445\n"
          ]
        }
      ]
    },
    {
      "cell_type": "code",
      "source": [
        "asian,_ = price_from_spec({**base,\"product\":{\"style\":\"european\",\"type\":\"asian_arith_call\",\"asset\":0,\"K\":100.0}})\n",
        "print(f\"Asian={asian:.4f} <= Vanilla={van:.4f}\")"
      ],
      "metadata": {
        "colab": {
          "base_uri": "https://localhost:8080/"
        },
        "id": "J7HFyoLwdx2k",
        "outputId": "df46ec01-c7d0-4383-e3db-678e0614939f"
      },
      "execution_count": 7,
      "outputs": [
        {
          "output_type": "stream",
          "name": "stdout",
          "text": [
            "Asian=5.7958 <= Vanilla=10.4445\n"
          ]
        }
      ]
    },
    {
      "cell_type": "code",
      "source": [
        "def berm(ex_every):\n",
        "  spec={\"engine\":\"mc\",\"model\":{\"name\":\"gbm\",\"r\":0.05,\"q\":0.0,\"sigma\":0.2},\n",
        "        \"grid\":{\"T\":1.0,\"steps\":256},\"S0\":[100.0],\n",
        "        \"product\":{\"style\":\"bermudan\",\"type\":\"european_put\",\"asset\":0,\"K\":100.0,\"exercise_every\":ex_every},\n",
        "        \"n_paths\":120_000,\"seed\":7}\n",
        "  return price_from_spec(spec)\n",
        "\n",
        "for ex in (8,16,32):\n",
        "  p,se = berm(ex)\n",
        "  print(f\"ex_every={ex:>2}: {p:.4f} ± {1.96*se:.4f}\")"
      ],
      "metadata": {
        "colab": {
          "base_uri": "https://localhost:8080/"
        },
        "id": "QR5BhpBld3Su",
        "outputId": "63d74bab-820b-4e42-9b0a-68e6912e35e1"
      },
      "execution_count": 8,
      "outputs": [
        {
          "output_type": "stream",
          "name": "stdout",
          "text": [
            "ex_every= 8: 6.0395 ± 0.0407\n",
            "ex_every=16: 6.0427 ± 0.0415\n",
            "ex_every=32: 6.0361 ± 0.0424\n"
          ]
        }
      ]
    },
    {
      "cell_type": "code",
      "source": [
        "common={\"name\":\"heston\",\"r\":0.05,\"q\":0.0,\"kappa\":1.5,\"theta\":0.04,\"xi\":0.5,\"rho\":-0.7,\"v0\":0.04}\n",
        "\n",
        "fft={\"engine\":\"fft\",\"model\":common,\"grid\":{\"T\":1.0},\"S0\":[100.0],\n",
        "     \"product\":{\"style\":\"european\",\"type\":\"european_call\",\"asset\":0,\"K\":100.0},\n",
        "     \"alpha\":1.5,\"N\":4096,\"eta\":0.25}\n",
        "\n",
        "mc={\"engine\":\"mc\",\"model\":common,\"grid\":{\"T\":1.0,\"steps\":512},\"S0\":[100.0],\n",
        "    \"product\":{\"style\":\"european\",\"type\":\"european_call\",\"asset\":0,\"K\":100.0},\n",
        "    \"n_paths\":200_000,\"seed\":7}\n",
        "\n",
        "p_fft,_ = price_from_spec(fft)\n",
        "p_mc,se = price_from_spec(mc)\n",
        "print(f\"FFT={p_fft:.4f} | MC={p_mc:.4f} ± {1.96*se:.4f}\")"
      ],
      "metadata": {
        "colab": {
          "base_uri": "https://localhost:8080/"
        },
        "id": "qHbY9aXGd7Sq",
        "outputId": "25cd7562-c71d-4b0a-faf2-800095004ccf"
      },
      "execution_count": 9,
      "outputs": [
        {
          "output_type": "stream",
          "name": "stdout",
          "text": [
            "FFT=10.4781 | MC=10.4193 ± 0.0643\n"
          ]
        }
      ]
    },
    {
      "cell_type": "code",
      "source": [
        "spec={\"engine\":\"mc\",\n",
        "      \"model\":{\"name\":\"gbm\",\"r\":0.05,\"q\":[0.01,0.03],\"sigma\":[0.20,0.30],\n",
        "               \"corr\":[[1.0,0.5],[0.5,1.0]]},\n",
        "      \"grid\":{\"T\":2.0,\"steps\":80},\"S0\":[100.0,120.0],\n",
        "      \"product\":{\"style\":\"european\",\"type\":\"basket_call\",\"weights\":[0.5,0.5],\"K\":110.0},\n",
        "      \"n_paths\":100_000,\"seed\":3}\n",
        "p,se = price_from_spec(spec)\n",
        "print(p, \"±\", 1.96*se)"
      ],
      "metadata": {
        "colab": {
          "base_uri": "https://localhost:8080/"
        },
        "id": "tGvUhXkReBRd",
        "outputId": "c3be0132-aab8-404a-d927-b3c08ff52de0"
      },
      "execution_count": 10,
      "outputs": [
        {
          "output_type": "stream",
          "name": "stdout",
          "text": [
            "15.926254233134596 ± 0.15865480424438438\n"
          ]
        }
      ]
    },
    {
      "cell_type": "code",
      "source": [
        "{\n",
        "  \"engine\":\"analytic\",\n",
        "  \"model\":{\"r\":0.05,\"q\":[0.0],\"sigma\":[0.2],\"corr\":[[1.0]]},\n",
        "  \"grid\":{\"T\":1.0},\n",
        "  \"S0\":[100.0],\n",
        "  \"product\":{\"style\":\"european\",\"type\":\"asset_or_nothing_call\",\"asset\":0,\"K\":100.0}\n",
        "}"
      ],
      "metadata": {
        "colab": {
          "base_uri": "https://localhost:8080/"
        },
        "id": "eR3QGU6CeE8e",
        "outputId": "c14c3f28-835b-4929-d111-1f792e9b10c2"
      },
      "execution_count": 11,
      "outputs": [
        {
          "output_type": "execute_result",
          "data": {
            "text/plain": [
              "{'engine': 'analytic',\n",
              " 'model': {'r': 0.05, 'q': [0.0], 'sigma': [0.2], 'corr': [[1.0]]},\n",
              " 'grid': {'T': 1.0},\n",
              " 'S0': [100.0],\n",
              " 'product': {'style': 'european',\n",
              "  'type': 'asset_or_nothing_call',\n",
              "  'asset': 0,\n",
              "  'K': 100.0}}"
            ]
          },
          "metadata": {},
          "execution_count": 11
        }
      ]
    },
    {
      "cell_type": "code",
      "source": [
        "spec = {\n",
        "  \"engine\": \"analytic\",\n",
        "  \"model\": {\"r\": 0.05},   # ou r_curve: {\"times\":[...], \"rates\":[...]}\n",
        "  \"grid\": {\"T\": 1.0},\n",
        "  \"S0\": [],\n",
        "  \"product\": {\"style\":\"european\",\"type\":\"fra\",\"T1\":1.0,\"T2\":1.5,\"tau\":0.5,\"K\":0.045,\"notional\":1.0}\n",
        "}\n",
        "pv,_ = price_from_spec(spec)"
      ],
      "metadata": {
        "id": "ZuWwLMHYeI3F"
      },
      "execution_count": 12,
      "outputs": []
    },
    {
      "cell_type": "code",
      "source": [
        "pv"
      ],
      "metadata": {
        "colab": {
          "base_uri": "https://localhost:8080/"
        },
        "id": "b7KTmA1ieMq9",
        "outputId": "29ff7d01-1021-446b-d6d6-fc3359656ea1"
      },
      "execution_count": 13,
      "outputs": [
        {
          "output_type": "execute_result",
          "data": {
            "text/plain": [
              "0.0026117097297686936"
            ]
          },
          "metadata": {},
          "execution_count": 13
        }
      ]
    },
    {
      "cell_type": "code",
      "source": [
        "spec = {\n",
        "  \"engine\":\"analytic\",\"model\":{\"r\":0.05},\"grid\":{\"T\":2.0},\"S0\":[],\n",
        "  \"product\":{\"style\":\"european\",\"type\":\"swap\",\"T0\":0.0,\n",
        "             \"payment_times\":[0.5,1.0,1.5,2.0],\n",
        "             \"tau\":0.5, \"fixed_rate\":0.05, \"notional\":1.0}\n",
        "}\n",
        "pv,_ = price_from_spec(spec)"
      ],
      "metadata": {
        "id": "ERFRyPtbePF_"
      },
      "execution_count": 14,
      "outputs": []
    },
    {
      "cell_type": "code",
      "source": [
        "pv"
      ],
      "metadata": {
        "colab": {
          "base_uri": "https://localhost:8080/"
        },
        "id": "8pG8b0vJeSxp",
        "outputId": "e16e086f-900f-4cc9-e5cb-25dac1b85ef3"
      },
      "execution_count": 15,
      "outputs": [
        {
          "output_type": "execute_result",
          "data": {
            "text/plain": [
              "0.0011845759417015017"
            ]
          },
          "metadata": {},
          "execution_count": 15
        }
      ]
    },
    {
      "cell_type": "code",
      "source": [
        "spec = {\n",
        "  \"engine\":\"analytic\",\"model\":{\"r\":0.05},\"grid\":{\"T\":2.0},\"S0\":[],\n",
        "  \"product\":{\"style\":\"european\",\"type\":\"cap\",\n",
        "             \"payment_times\":[0.5,1.0,1.5,2.0],\n",
        "             \"tau\":0.5,\"K\":0.04,\"sigma\":0.20,\"notional\":1.0}\n",
        "}\n",
        "pv,_ = price_from_spec(spec)"
      ],
      "metadata": {
        "id": "Aq7P8VSfeUke"
      },
      "execution_count": 16,
      "outputs": []
    },
    {
      "cell_type": "code",
      "source": [
        "pv"
      ],
      "metadata": {
        "colab": {
          "base_uri": "https://localhost:8080/"
        },
        "id": "4otSu1-6eXwF",
        "outputId": "5f900a94-5200-4747-ea7c-f7eeac56021f"
      },
      "execution_count": 17,
      "outputs": [
        {
          "output_type": "execute_result",
          "data": {
            "text/plain": [
              "0.02072838335158475"
            ]
          },
          "metadata": {},
          "execution_count": 17
        }
      ]
    },
    {
      "cell_type": "code",
      "source": [
        "spec = {\n",
        "  \"engine\":\"analytic\",\"model\":{\"r\":0.05},\"grid\":{\"T\":2.0},\"S0\":[],\n",
        "  \"product\":{\"style\":\"european\",\"type\":\"payer_swaption\",\"expiry\":1.0,\n",
        "             \"payment_times\":[1.5,2.0,2.5],\"tau\":0.5,\"K\":0.05,\"sigma\":0.25,\"notional\":1.0}\n",
        "}\n",
        "pv,_ = price_from_spec(spec)"
      ],
      "metadata": {
        "id": "6tmMlt5geYyX"
      },
      "execution_count": 18,
      "outputs": []
    },
    {
      "cell_type": "code",
      "source": [
        "pv"
      ],
      "metadata": {
        "colab": {
          "base_uri": "https://localhost:8080/"
        },
        "id": "-kktUgD-ebv8",
        "outputId": "2b125619-4387-433c-da27-8972a491e1a0"
      },
      "execution_count": 19,
      "outputs": [
        {
          "output_type": "execute_result",
          "data": {
            "text/plain": [
              "0.007230983333915667"
            ]
          },
          "metadata": {},
          "execution_count": 19
        }
      ]
    },
    {
      "cell_type": "code",
      "source": [
        "from pathlib import Path\n",
        "from derivx.report import plot_report\n",
        "\n",
        "spec = {\n",
        "  \"engine\": \"analytic\",\n",
        "  \"model\": {\"r\": 0.05, \"q\": [0.0], \"sigma\": [0.2], \"corr\": [[1.0]]},\n",
        "  \"grid\": {\"T\": 1.0},\n",
        "  \"S0\": [100.0],\n",
        "  \"product\": {\"style\": \"european\", \"type\": \"european_call\", \"asset\": 0, \"K\": 100.0},\n",
        "}\n",
        "\n",
        "out_file = \"report_call.png\"\n",
        "rep = plot_report(spec, filename=out_file, dpi=150)\n",
        "\n",
        "print(\"Preço:\", rep.price, \"SE:\", rep.se, \"PNG:\", Path(out_file).resolve())"
      ],
      "metadata": {
        "colab": {
          "base_uri": "https://localhost:8080/"
        },
        "id": "eNXP28dfee4k",
        "outputId": "2579e2c1-a08d-4853-c71c-116d47cbb080"
      },
      "execution_count": 21,
      "outputs": [
        {
          "output_type": "stream",
          "name": "stdout",
          "text": [
            "Preço: 10.450583572185565 SE: 0.0 PNG: /content/report_call.png\n"
          ]
        }
      ]
    }
  ]
}